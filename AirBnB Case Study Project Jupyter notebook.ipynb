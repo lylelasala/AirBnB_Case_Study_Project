{
 "cells": [
  {
   "cell_type": "markdown",
   "metadata": {},
   "source": [
    "# AirBnB NY Locations Data Case Study\n",
    "\n",
    "In this final project, you task will be to take the data provided and find evidance to answer the following questions.\n",
    "\n",
    "1. Which hosts are the busiest and why?\n",
    "2. How many neighborhood groups are available and which shows up the most?\n",
    "3. Are private rooms the most popular in manhattan?\n",
    "4. Which hosts are the busiest and based on their reviews?\n",
    "5. Which neighorhood group has the highest average price?\n",
    "6. Which neighborhood group has the highest total price?\n",
    "7. Which top 5 hosts have the highest total price?\n",
    "8. Who currently has no (zero) availability with a review count of 100 or more?\n",
    "9. What host has the highest total of prices and where are they located?\n",
    "10. When did Danielle from Queens last receive a review?\n",
    "\n",
    "You will be given **4 hours** to complete this assignment. \n",
    "**Be Advised** I will go dark for this intire assignment time period. That said, any questions that you would like to ask about the data, or the project **MUST** be asked before the time starts. Once the time has started, I can no longer give information.\n",
    "\n",
    "This is to similate what you will face when you are out in the wild. \n",
    "\n",
    "Happy Coding!"
   ]
  },
  {
   "cell_type": "code",
   "execution_count": 56,
   "metadata": {},
   "outputs": [],
   "source": [
    "import numpy as np\n",
    "import pandas as pd\n",
    "import matplotlib.pyplot as plt"
   ]
  },
  {
   "cell_type": "code",
   "execution_count": 70,
   "metadata": {},
   "outputs": [
    {
     "data": {
      "text/html": [
       "<div>\n",
       "<style scoped>\n",
       "    .dataframe tbody tr th:only-of-type {\n",
       "        vertical-align: middle;\n",
       "    }\n",
       "\n",
       "    .dataframe tbody tr th {\n",
       "        vertical-align: top;\n",
       "    }\n",
       "\n",
       "    .dataframe thead th {\n",
       "        text-align: right;\n",
       "    }\n",
       "</style>\n",
       "<table border=\"1\" class=\"dataframe\">\n",
       "  <thead>\n",
       "    <tr style=\"text-align: right;\">\n",
       "      <th></th>\n",
       "      <th>id</th>\n",
       "      <th>name</th>\n",
       "      <th>host_id</th>\n",
       "      <th>host_name</th>\n",
       "      <th>neighbourhood_group</th>\n",
       "      <th>neighbourhood</th>\n",
       "      <th>latitude</th>\n",
       "      <th>longitude</th>\n",
       "      <th>room_type</th>\n",
       "      <th>price</th>\n",
       "      <th>minimum_nights</th>\n",
       "      <th>number_of_reviews</th>\n",
       "      <th>last_review</th>\n",
       "      <th>reviews_per_month</th>\n",
       "      <th>calculated_host_listings_count</th>\n",
       "      <th>availability_365</th>\n",
       "    </tr>\n",
       "  </thead>\n",
       "  <tbody>\n",
       "    <tr>\n",
       "      <th>0</th>\n",
       "      <td>2539</td>\n",
       "      <td>Clean &amp; quiet apt home by the park</td>\n",
       "      <td>2787</td>\n",
       "      <td>John</td>\n",
       "      <td>Brooklyn</td>\n",
       "      <td>Kensington</td>\n",
       "      <td>40.64749</td>\n",
       "      <td>-73.97237</td>\n",
       "      <td>Private room</td>\n",
       "      <td>149</td>\n",
       "      <td>1</td>\n",
       "      <td>9</td>\n",
       "      <td>2018-10-19</td>\n",
       "      <td>0.21</td>\n",
       "      <td>6</td>\n",
       "      <td>365</td>\n",
       "    </tr>\n",
       "    <tr>\n",
       "      <th>1</th>\n",
       "      <td>2595</td>\n",
       "      <td>Skylit Midtown Castle</td>\n",
       "      <td>2845</td>\n",
       "      <td>Jennifer</td>\n",
       "      <td>Manhattan</td>\n",
       "      <td>Midtown</td>\n",
       "      <td>40.75362</td>\n",
       "      <td>-73.98377</td>\n",
       "      <td>Entire home/apt</td>\n",
       "      <td>225</td>\n",
       "      <td>1</td>\n",
       "      <td>45</td>\n",
       "      <td>2019-05-21</td>\n",
       "      <td>0.38</td>\n",
       "      <td>2</td>\n",
       "      <td>355</td>\n",
       "    </tr>\n",
       "    <tr>\n",
       "      <th>2</th>\n",
       "      <td>3647</td>\n",
       "      <td>THE VILLAGE OF HARLEM....NEW YORK !</td>\n",
       "      <td>4632</td>\n",
       "      <td>Elisabeth</td>\n",
       "      <td>Manhattan</td>\n",
       "      <td>Harlem</td>\n",
       "      <td>40.80902</td>\n",
       "      <td>-73.94190</td>\n",
       "      <td>Private room</td>\n",
       "      <td>150</td>\n",
       "      <td>3</td>\n",
       "      <td>0</td>\n",
       "      <td>NaN</td>\n",
       "      <td>NaN</td>\n",
       "      <td>1</td>\n",
       "      <td>365</td>\n",
       "    </tr>\n",
       "    <tr>\n",
       "      <th>3</th>\n",
       "      <td>3831</td>\n",
       "      <td>Cozy Entire Floor of Brownstone</td>\n",
       "      <td>4869</td>\n",
       "      <td>LisaRoxanne</td>\n",
       "      <td>Brooklyn</td>\n",
       "      <td>Clinton Hill</td>\n",
       "      <td>40.68514</td>\n",
       "      <td>-73.95976</td>\n",
       "      <td>Entire home/apt</td>\n",
       "      <td>89</td>\n",
       "      <td>1</td>\n",
       "      <td>270</td>\n",
       "      <td>2019-07-05</td>\n",
       "      <td>4.64</td>\n",
       "      <td>1</td>\n",
       "      <td>194</td>\n",
       "    </tr>\n",
       "    <tr>\n",
       "      <th>4</th>\n",
       "      <td>5022</td>\n",
       "      <td>Entire Apt: Spacious Studio/Loft by central park</td>\n",
       "      <td>7192</td>\n",
       "      <td>Laura</td>\n",
       "      <td>Manhattan</td>\n",
       "      <td>East Harlem</td>\n",
       "      <td>40.79851</td>\n",
       "      <td>-73.94399</td>\n",
       "      <td>Entire home/apt</td>\n",
       "      <td>80</td>\n",
       "      <td>10</td>\n",
       "      <td>9</td>\n",
       "      <td>2018-11-19</td>\n",
       "      <td>0.10</td>\n",
       "      <td>1</td>\n",
       "      <td>0</td>\n",
       "    </tr>\n",
       "  </tbody>\n",
       "</table>\n",
       "</div>"
      ],
      "text/plain": [
       "     id                                              name  host_id  \\\n",
       "0  2539                Clean & quiet apt home by the park     2787   \n",
       "1  2595                             Skylit Midtown Castle     2845   \n",
       "2  3647               THE VILLAGE OF HARLEM....NEW YORK !     4632   \n",
       "3  3831                   Cozy Entire Floor of Brownstone     4869   \n",
       "4  5022  Entire Apt: Spacious Studio/Loft by central park     7192   \n",
       "\n",
       "     host_name neighbourhood_group neighbourhood  latitude  longitude  \\\n",
       "0         John            Brooklyn    Kensington  40.64749  -73.97237   \n",
       "1     Jennifer           Manhattan       Midtown  40.75362  -73.98377   \n",
       "2    Elisabeth           Manhattan        Harlem  40.80902  -73.94190   \n",
       "3  LisaRoxanne            Brooklyn  Clinton Hill  40.68514  -73.95976   \n",
       "4        Laura           Manhattan   East Harlem  40.79851  -73.94399   \n",
       "\n",
       "         room_type  price  minimum_nights  number_of_reviews last_review  \\\n",
       "0     Private room    149               1                  9  2018-10-19   \n",
       "1  Entire home/apt    225               1                 45  2019-05-21   \n",
       "2     Private room    150               3                  0         NaN   \n",
       "3  Entire home/apt     89               1                270  2019-07-05   \n",
       "4  Entire home/apt     80              10                  9  2018-11-19   \n",
       "\n",
       "   reviews_per_month  calculated_host_listings_count  availability_365  \n",
       "0               0.21                               6               365  \n",
       "1               0.38                               2               355  \n",
       "2                NaN                               1               365  \n",
       "3               4.64                               1               194  \n",
       "4               0.10                               1                 0  "
      ]
     },
     "execution_count": 70,
     "metadata": {},
     "output_type": "execute_result"
    }
   ],
   "source": [
    "air_bnb = pd.read_csv('/Users/lylelasala/Documents/work/Data Sci/Python/AB_NYC_2019.csv')\n",
    "air_bnb.head()\n",
    "\n",
    "# /Users/lylelasala/Documents/work/Data Sci/Python"
   ]
  },
  {
   "cell_type": "code",
   "execution_count": 91,
   "metadata": {},
   "outputs": [
    {
     "name": "stdout",
     "output_type": "stream",
     "text": [
      "The busiest host is Host ID: 219517861.\n"
     ]
    }
   ],
   "source": [
    "# Which hosts are the busiest and why?\n",
    "\n",
    "listing_counts = air_bnb['host_id'].value_counts()\n",
    "busiest_host = listing_counts.keys()[0]\n",
    "\n",
    "print(f\"The busiest host is Host ID: {busiest_host}.\")"
   ]
  },
  {
   "cell_type": "code",
   "execution_count": 93,
   "metadata": {},
   "outputs": [
    {
     "name": "stdout",
     "output_type": "stream",
     "text": [
      "There are 5 different neighbourhood groups available in the dataset\n",
      "The neighbourhood group that appears the most often is: Manhattan\n"
     ]
    }
   ],
   "source": [
    "# How many neighborhood groups are available and which shows up the most?\n",
    "\n",
    "neighbourhood_group_count = len(air_bnb.neighbourhood_group.unique())\n",
    "print(\"There are {} different neighbourhood groups available in the dataset\".format(neighbourhood_group_count))\n",
    "\n",
    "# neighbourhood_group_freq = air_bnb.neighbourhood_group.value_counts().head()\n",
    "# print('The neighbourhood group that appears the most often is: {}'.format(neighbourhood_group_freq[0]['neighbourhood_group']))\n",
    "\n",
    "neighbourhood_group_freq = air_bnb['neighbourhood_group'].value_counts()\n",
    "sorted_neighbourhood_group_freq = neighbourhood_group_freq.sort_values(ascending=False)\n",
    "most_common_neighbourhood_group = sorted_neighbourhood_group_freq.index[0]\n",
    "print('The neighbourhood group that appears the most often is: {}'.format(most_common_neighbourhood_group))"
   ]
  },
  {
   "cell_type": "code",
   "execution_count": 14,
   "metadata": {},
   "outputs": [
    {
     "name": "stdout",
     "output_type": "stream",
     "text": [
      "In Manhattan, 36.84963759752551% of listings are private rooms.\n"
     ]
    }
   ],
   "source": [
    "# Are private rooms the most popular in manhattan?\n",
    "\n",
    "Manhattan_listings = air_bnb[air_bnb['neighbourhood_group'] == 'Manhattan']\n",
    "private_room_count = len(Manhattan_listings[Manhattan_listings['room_type'] == 'Private room'])\n",
    "total_Manhattan_listings = len(Manhattan_listings)\n",
    "\n",
    "percentage_of_private_rooms = (private_room_count / total_Manhattan_listings) * 100\n",
    "\n",
    "print('In Manhattan, {}% of listings are private rooms.'.format(percentage_of_private_rooms))\n"
   ]
  },
  {
   "cell_type": "code",
   "execution_count": 71,
   "metadata": {},
   "outputs": [
    {
     "name": "stdout",
     "output_type": "stream",
     "text": [
      "The host with the most listings is host ID: 219517861.\n",
      "The host with the highest average review score is Host ID: 47621202.\n"
     ]
    }
   ],
   "source": [
    "# Which hosts are the busiest and based on their reviews?\n",
    "\n",
    "busy_hosts = {}\n",
    "\n",
    "for _, row in air_bnb.iterrows():\n",
    "    host_id = row['host_id']\n",
    "    if host_id not in busy_hosts:\n",
    "        busy_hosts[host_id] = {'listings': 0, 'reviews': 0}\n",
    "    busy_hosts[host_id]['listings'] += 1\n",
    "    busy_hosts[host_id]['reviews'] += row['number_of_reviews']\n",
    "\n",
    "max_listings_host = max(busy_hosts, key=lambda x: busy_hosts[x]['listings'])\n",
    "max_reviews_host = max(busy_hosts, key=lambda x: busy_hosts[x]['reviews'] / busy_hosts[x]['listings'])\n",
    "\n",
    "print(f\"The host with the most listings is host ID: {max_listings_host}.\")\n",
    "print(f\"The host with the highest average review score is Host ID: {max_reviews_host}.\")\n"
   ]
  },
  {
   "cell_type": "code",
   "execution_count": 69,
   "metadata": {},
   "outputs": [
    {
     "name": "stdout",
     "output_type": "stream",
     "text": [
      "8\n"
     ]
    }
   ],
   "source": [
    "add = lambda x, y: x + y\n",
    "result = add(5, 3)\n",
    "print(result)"
   ]
  },
  {
   "cell_type": "code",
   "execution_count": 65,
   "metadata": {},
   "outputs": [
    {
     "name": "stdout",
     "output_type": "stream",
     "text": [
      "The neighborhood group with the highest average price is: Manhattan\n"
     ]
    }
   ],
   "source": [
    "#Which neighorhood group has the highest average price?\n",
    "\n",
    "average_price_per_neighborhood = air_bnb.groupby('neighbourhood_group')['price'].mean()\n",
    "highest_average_price_neighborhood = average_price_per_neighborhood.idxmax()\n",
    "print(\"The neighborhood group with the highest average price is:\", highest_average_price_neighborhood)\n"
   ]
  },
  {
   "cell_type": "code",
   "execution_count": 34,
   "metadata": {},
   "outputs": [
    {
     "name": "stdout",
     "output_type": "stream",
     "text": [
      "The neighborhood group with the highest total price is: Manhattan\n"
     ]
    }
   ],
   "source": [
    "# Which neighbor hood group has the highest total price?\n",
    "\n",
    "total_price_per_neighborhood = air_bnb.groupby('neighbourhood_group')['price'].sum()\n",
    "highest_total_price_neighborhood = total_price_per_neighborhood.idxmax()\n",
    "print(\"The neighborhood group with the highest total price is:\", highest_total_price_neighborhood)\n"
   ]
  },
  {
   "cell_type": "code",
   "execution_count": 39,
   "metadata": {},
   "outputs": [
    {
     "name": "stdout",
     "output_type": "stream",
     "text": [
      "host_id\n",
      "219517861    82795\n",
      "107434423    70331\n",
      "156158778    37097\n",
      "205031545    35294\n",
      "30283594     33581\n",
      "Name: price, dtype: int64\n"
     ]
    }
   ],
   "source": [
    "#Which top 5 hosts have the highest total price?\n",
    "\n",
    "host_prices = air_bnb.groupby('host_id')['price'].sum()\n",
    "\n",
    "# Sort the DataFrame by the total price in descending order\n",
    "host_prices_sorted = host_prices.sort_values(ascending=False)\n",
    "\n",
    "# Display the top 5 hosts with the highest total price\n",
    "top_hosts_highest_price = host_prices_sorted.head(5)\n",
    "print(top_hosts_highest_price)"
   ]
  },
  {
   "cell_type": "code",
   "execution_count": 74,
   "metadata": {},
   "outputs": [
    {
     "name": "stdout",
     "output_type": "stream",
     "text": [
      "[7490, 79402, 129352, 193722]\n"
     ]
    }
   ],
   "source": [
    "# Who currently has no (zero) availability with a review count of 100 or more?\n",
    "\n",
    "host_ids_to_check = [7490, 79402, 129352, 193722, 67778] \n",
    "valid_host_ids = []\n",
    "\n",
    "for host_id in host_ids_to_check:\n",
    "\n",
    "    host_data = air_bnb[air_bnb['host_id'] == host_id]\n",
    "    if host_data['availability_365'].sum() == 0 and host_data['number_of_reviews'].sum() >= 100:\n",
    "        valid_host_ids.append(host_id)\n",
    "\n",
    "print(valid_host_ids)\n",
    "\n"
   ]
  },
  {
   "cell_type": "code",
   "execution_count": 55,
   "metadata": {},
   "outputs": [
    {
     "name": "stdout",
     "output_type": "stream",
     "text": [
      "The host with the highest total price is Host ID: 68119814. They are located in Hell's Kitchen.\n"
     ]
    }
   ],
   "source": [
    "# What host has the highest total of prices and where are they located?\n",
    "host_prices = {}\n",
    "for price in air_bnb['price']:\n",
    "    host_id = air_bnb['host_id'][air_bnb.index[-1]]\n",
    "    host_prices[host_id] = host_prices.get(host_id, 0) + price\n",
    "\n",
    "max_price_host = max(host_prices, key=host_prices.get)\n",
    "location = air_bnb[air_bnb['host_id'] == max_price_host]['neighbourhood'].values[0]\n",
    "print(f\"The host with the highest total price is Host ID: {max_price_host}. They are located in {location}.\")\n",
    "\n"
   ]
  },
  {
   "cell_type": "code",
   "execution_count": 75,
   "metadata": {},
   "outputs": [
    {
     "name": "stdout",
     "output_type": "stream",
     "text": [
      "No listings found for Danielle from Queens.\n"
     ]
    }
   ],
   "source": [
    "# When did Danielle from Queens last receive a review?\n",
    "\n",
    "danielle_listings = air_bnb[(air_bnb['host_name'] == 'Danielle') & (air_bnb['neighbourhood'] == 'Queens')]\n",
    "\n",
    "# Check if there are any listings for Danielle from Queens\n",
    "if not danielle_listings.empty:\n",
    "    # Sort the DataFrame by the review date in descending order to get the latest review\n",
    "    latest_review = danielle_listings.sort_values('last_review', ascending=False)\n",
    "    \n",
    "    # Print the date of the latest review\n",
    "    print(latest_review['last_review'].values[0])\n",
    "else:\n",
    "    print(\"No listings found for Danielle from Queens.\")"
   ]
  },
  {
   "cell_type": "markdown",
   "metadata": {},
   "source": [
    "## Further Questions\n",
    "\n",
    "1. Which host has the most listings?"
   ]
  },
  {
   "cell_type": "code",
   "execution_count": 76,
   "metadata": {},
   "outputs": [
    {
     "name": "stdout",
     "output_type": "stream",
     "text": [
      "The host with the most listings is Host ID: 219517861.\n"
     ]
    }
   ],
   "source": [
    "host_listings_count = air_bnb.groupby('host_id').size()\n",
    "most_listings_host = host_listings_count.idxmax()\n",
    "\n",
    "print(f\"The host with the most listings is Host ID: {most_listings_host}.\")\n"
   ]
  },
  {
   "cell_type": "markdown",
   "metadata": {},
   "source": [
    "2. How many listings have completely open availability?"
   ]
  },
  {
   "cell_type": "code",
   "execution_count": 77,
   "metadata": {},
   "outputs": [
    {
     "name": "stdout",
     "output_type": "stream",
     "text": [
      "There are 1295 listings with completely open availability.\n"
     ]
    }
   ],
   "source": [
    "open_availability_listings = air_bnb[air_bnb['availability_365'] == 365]\n",
    "num_open_availability_listings = len(open_availability_listings)\n",
    "\n",
    "print(f\"There are {num_open_availability_listings} listings with completely open availability.\")\n"
   ]
  },
  {
   "cell_type": "markdown",
   "metadata": {},
   "source": [
    "3. What room_types have the highest review numbers?"
   ]
  },
  {
   "cell_type": "code",
   "execution_count": 63,
   "metadata": {},
   "outputs": [
    {
     "name": "stdout",
     "output_type": "stream",
     "text": [
      "room_type\n",
      "Entire home/apt    580403\n",
      "Private room       538346\n",
      "Shared room         19256\n",
      "Name: number_of_reviews, dtype: int64\n"
     ]
    }
   ],
   "source": [
    "room_type_reviews_count = air_bnb.groupby('room_type')['number_of_reviews'].sum()\n",
    "room_types_sorted = room_type_reviews_count.sort_values(ascending=False)\n",
    "\n",
    "print(room_types_sorted)\n"
   ]
  },
  {
   "cell_type": "markdown",
   "metadata": {},
   "source": [
    "# Final Conclusion\n",
    "\n",
    "In this cell, write your final conclusion for each of the questions asked.\n",
    "\n",
    "Also, if you uncovered some more details that were not asked above, please discribe them here.\n",
    "\n",
    "-- Add your conclusion --"
   ]
  },
  {
   "cell_type": "code",
   "execution_count": 96,
   "metadata": {},
   "outputs": [
    {
     "name": "stdout",
     "output_type": "stream",
     "text": [
      "\n",
      "AirBnB Case Study Analysis:\n",
      "\n",
      "1. The busiest host is Host ID: 219517861 concluded.\n",
      "2. Even though there are 5 different neighborhood groups to analyze, Manhattan is the most common group that appearsthe most. Finding the frequency helped pull this out.\n",
      "3. Private rooms seem to have a third of the listings among rooms. In Manhattan about 37 percent are private rooms.\n",
      "4. The host with the most listings is host ID: 219517861. The host with the highest average review score is Host ID: 47621202.\n",
      "5. Using the mean function, the neighborhood with the highest total price was Manhattan.\n",
      "6. Using the sum function, the neighbourhood with the highest total price was Manhattan too.\n",
      "7. These are the top 5 host that have the highest total price:\n",
      "   - Host ID: 219517861, Total Price: 82795\n",
      "   - Host ID: 107434423, Total Price: 70331\n",
      "   - Host ID: 156158778, Total Price: 37097\n",
      "   - Host ID: 205031545, Total Price: 35294\n",
      "   - Host ID: 30283594, Total Price: 33581\n",
      "8. These are whom have 0 availability: 7490, 79402, 129352, 193722\n",
      "9. The host with the highest total price is Host ID: 68119814. They are located in Hell's Kitchen.\n",
      "10. I found that there are no listings found for Danielle from Queens.\n",
      "11. The host with the most listings is Host ID: 219517861.\n",
      "12. Concluded that there are 1295 listings with completely open availability.\n",
      "13. Here are the room types that have the higest review numbers: room_type:\n",
      "   - Entire home/apt: 580403 reviews\n",
      "   - Private room: 538346 reviews\n",
      "   - Shared room: 19256 reviews\n",
      "\n"
     ]
    }
   ],
   "source": [
    "def AirBnB_Case_Study_Analysis():\n",
    "    print(\"\\nAirBnB Case Study Analysis:\\n\")\n",
    "    \n",
    "    print(\"1. The busiest host is Host ID: 219517861 concluded.\")\n",
    "    print(\"2. Even though there are 5 different neighborhood groups to analyze, Manhattan is the most common group that appearsthe most. Finding the frequency helped pull this out.\")\n",
    "    print(\"3. Private rooms seem to have a third of the listings among rooms. In Manhattan about 37 percent are private rooms.\")\n",
    "    print(\"4. The host with the most listings is host ID: 219517861. The host with the highest average review score is Host ID: 47621202.\")\n",
    "    print(\"5. Using the mean function, the neighborhood with the highest total price was Manhattan.\")\n",
    "    print(\"6. Using the sum function, the neighbourhood with the highest total price was Manhattan too.\")\n",
    "    print(\"7. These are the top 5 host that have the highest total price:\")\n",
    "    print(\"   - Host ID: 219517861, Total Price: 82795\")\n",
    "    print(\"   - Host ID: 107434423, Total Price: 70331\")\n",
    "    print(\"   - Host ID: 156158778, Total Price: 37097\")\n",
    "    print(\"   - Host ID: 205031545, Total Price: 35294\")\n",
    "    print(\"   - Host ID: 30283594, Total Price: 33581\")\n",
    "    print(\"8. These are whom have 0 availability: 7490, 79402, 129352, 193722\")\n",
    "    print(\"9. The host with the highest total price is Host ID: 68119814. They are located in Hell's Kitchen.\")\n",
    "    print(\"10. I found that there are no listings found for Danielle from Queens.\")\n",
    "    print(\"11. The host with the most listings is Host ID: 219517861.\")\n",
    "    print(\"12. Concluded that there are 1295 listings with completely open availability.\")\n",
    "    print(\"13. Here are the room types that have the higest review numbers: room_type:\")\n",
    "    print(\"   - Entire home/apt: 580403 reviews\")\n",
    "    print(\"   - Private room: 538346 reviews\")\n",
    "    print(\"   - Shared room: 19256 reviews\\n\")\n",
    "\n",
    "AirBnB_Case_Study_Analysis()\n"
   ]
  },
  {
   "cell_type": "code",
   "execution_count": null,
   "metadata": {},
   "outputs": [],
   "source": []
  }
 ],
 "metadata": {
  "kernelspec": {
   "display_name": "Python 3 (ipykernel)",
   "language": "python",
   "name": "python3"
  },
  "language_info": {
   "codemirror_mode": {
    "name": "ipython",
    "version": 3
   },
   "file_extension": ".py",
   "mimetype": "text/x-python",
   "name": "python",
   "nbconvert_exporter": "python",
   "pygments_lexer": "ipython3",
   "version": "3.9.13"
  }
 },
 "nbformat": 4,
 "nbformat_minor": 2
}
